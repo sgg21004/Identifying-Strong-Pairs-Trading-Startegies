{
 "cells": [
  {
   "cell_type": "code",
   "execution_count": 2,
   "metadata": {},
   "outputs": [],
   "source": [
    "import requests\n",
    "import pandas as pd\n",
    "import numpy as np\n",
    "import matplotlib.pyplot as plt\n",
    "from bs4 import BeautifulSoup\n",
    "from sklearn.decomposition import PCA\n",
    "from sklearn.neural_network import MLPClassifier\n",
    "from sklearn.preprocessing import StandardScaler\n",
    "from sklearn.model_selection import train_test_split\n",
    "from sklearn.metrics import accuracy_score, f1_score\n",
    "from scipy.spatial.distance import pdist, squareform\n",
    "import yfinance as yf\n",
    "import statsmodels.api as sm\n",
    "import scipy.optimize as spop\n",
    "import matplotlib.pyplot as plt\n"
   ]
  },
  {
   "cell_type": "code",
   "execution_count": 3,
   "metadata": {},
   "outputs": [
    {
     "name": "stdout",
     "output_type": "stream",
     "text": [
      "['ACN', 'IBM', 'FI', 'INFY', 'FIS', 'IT', 'CTSH', 'CDW', 'WIT', 'GIB', 'BR', 'LDOS', 'EPAM', 'JKHY', 'CACI', 'PSN', 'GLOB', 'SAIC', 'G', 'EXLS', 'CLVT', 'AUR', 'ASGN', 'KD', 'DXC', 'CNXC', 'NABL', 'WNS', 'VYX', 'XRX', 'PRFT', 'GDS', 'FORTY', 'TASK', 'NYAX', 'TWKS', 'GDYN', 'CNDT', 'HCKT', 'MGIC', 'DMRC', 'BBAI', 'VNET', 'CTLP', 'UIS', 'TTEC', 'IBEX', 'NOTE', 'INOD', 'III', 'CSPI', 'JFU', 'DTST', 'BTCM', 'ARBB', 'CLPS', 'GMM', 'WYY', 'CTM', 'WAVD']\n"
     ]
    }
   ],
   "source": [
    "def get_IT_tickers(sector):\n",
    "    # URL for Stock Analysis's list of energy sector companies\n",
    "    # url = f\"https://stockanalysis.com/stocks/sector/{sector}/\"\n",
    "    url = f\"https://stockanalysis.com/stocks/industry/{sector}/\"\n",
    "    # url = f\"https://stockanalysis.com/stocks\"\n",
    "\n",
    "    response = requests.get(url)\n",
    "    html_content = response.content\n",
    "\n",
    "    soup = BeautifulSoup(html_content, \"html.parser\")\n",
    "    ticker_elements = soup.select(\"td a\") # .svelte-eurwtr\n",
    "    tickers = [elem.text for elem in ticker_elements]\n",
    "\n",
    "    return tickers \n",
    "\n",
    "tickers = get_IT_tickers(\"information-technology-services\")\n",
    "print(tickers)"
   ]
  },
  {
   "cell_type": "code",
   "execution_count": 4,
   "metadata": {},
   "outputs": [
    {
     "data": {
      "text/html": [
       "<div>\n",
       "<style scoped>\n",
       "    .dataframe tbody tr th:only-of-type {\n",
       "        vertical-align: middle;\n",
       "    }\n",
       "\n",
       "    .dataframe tbody tr th {\n",
       "        vertical-align: top;\n",
       "    }\n",
       "\n",
       "    .dataframe thead th {\n",
       "        text-align: right;\n",
       "    }\n",
       "</style>\n",
       "<table border=\"1\" class=\"dataframe\">\n",
       "  <thead>\n",
       "    <tr style=\"text-align: right;\">\n",
       "      <th></th>\n",
       "      <th>ACN</th>\n",
       "      <th>ASGN</th>\n",
       "      <th>BR</th>\n",
       "      <th>BTCM</th>\n",
       "      <th>CACI</th>\n",
       "      <th>CDW</th>\n",
       "      <th>CNDT</th>\n",
       "      <th>CSPI</th>\n",
       "      <th>CTLP</th>\n",
       "      <th>CTSH</th>\n",
       "      <th>...</th>\n",
       "      <th>SAIC</th>\n",
       "      <th>TTEC</th>\n",
       "      <th>UIS</th>\n",
       "      <th>VNET</th>\n",
       "      <th>VYX</th>\n",
       "      <th>WAVD</th>\n",
       "      <th>WIT</th>\n",
       "      <th>WNS</th>\n",
       "      <th>WYY</th>\n",
       "      <th>XRX</th>\n",
       "    </tr>\n",
       "    <tr>\n",
       "      <th>Date</th>\n",
       "      <th></th>\n",
       "      <th></th>\n",
       "      <th></th>\n",
       "      <th></th>\n",
       "      <th></th>\n",
       "      <th></th>\n",
       "      <th></th>\n",
       "      <th></th>\n",
       "      <th></th>\n",
       "      <th></th>\n",
       "      <th></th>\n",
       "      <th></th>\n",
       "      <th></th>\n",
       "      <th></th>\n",
       "      <th></th>\n",
       "      <th></th>\n",
       "      <th></th>\n",
       "      <th></th>\n",
       "      <th></th>\n",
       "      <th></th>\n",
       "      <th></th>\n",
       "    </tr>\n",
       "  </thead>\n",
       "  <tbody>\n",
       "    <tr>\n",
       "      <th>2018-01-02</th>\n",
       "      <td>139.834549</td>\n",
       "      <td>63.360001</td>\n",
       "      <td>81.668030</td>\n",
       "      <td>107.500000</td>\n",
       "      <td>134.149994</td>\n",
       "      <td>64.948296</td>\n",
       "      <td>16.540001</td>\n",
       "      <td>5.839521</td>\n",
       "      <td>9.75</td>\n",
       "      <td>65.117874</td>\n",
       "      <td>...</td>\n",
       "      <td>69.789619</td>\n",
       "      <td>34.718552</td>\n",
       "      <td>8.35</td>\n",
       "      <td>8.42</td>\n",
       "      <td>21.380367</td>\n",
       "      <td>4.2</td>\n",
       "      <td>5.563962</td>\n",
       "      <td>39.869999</td>\n",
       "      <td>6.8</td>\n",
       "      <td>21.827318</td>\n",
       "    </tr>\n",
       "    <tr>\n",
       "      <th>2018-01-03</th>\n",
       "      <td>140.479935</td>\n",
       "      <td>63.110001</td>\n",
       "      <td>81.596077</td>\n",
       "      <td>114.400002</td>\n",
       "      <td>137.800003</td>\n",
       "      <td>66.847595</td>\n",
       "      <td>16.250000</td>\n",
       "      <td>5.473580</td>\n",
       "      <td>9.70</td>\n",
       "      <td>65.668556</td>\n",
       "      <td>...</td>\n",
       "      <td>69.636612</td>\n",
       "      <td>34.632179</td>\n",
       "      <td>8.35</td>\n",
       "      <td>9.00</td>\n",
       "      <td>21.521473</td>\n",
       "      <td>4.2</td>\n",
       "      <td>5.524984</td>\n",
       "      <td>39.400002</td>\n",
       "      <td>6.9</td>\n",
       "      <td>21.797586</td>\n",
       "    </tr>\n",
       "    <tr>\n",
       "      <th>2018-01-04</th>\n",
       "      <td>142.143356</td>\n",
       "      <td>64.190002</td>\n",
       "      <td>82.243652</td>\n",
       "      <td>114.400002</td>\n",
       "      <td>136.600006</td>\n",
       "      <td>68.020676</td>\n",
       "      <td>16.270000</td>\n",
       "      <td>5.644871</td>\n",
       "      <td>9.50</td>\n",
       "      <td>66.705711</td>\n",
       "      <td>...</td>\n",
       "      <td>70.158577</td>\n",
       "      <td>34.632179</td>\n",
       "      <td>8.60</td>\n",
       "      <td>8.97</td>\n",
       "      <td>20.907974</td>\n",
       "      <td>4.2</td>\n",
       "      <td>5.505496</td>\n",
       "      <td>39.139999</td>\n",
       "      <td>6.7</td>\n",
       "      <td>22.065134</td>\n",
       "    </tr>\n",
       "    <tr>\n",
       "      <th>2018-01-05</th>\n",
       "      <td>143.315918</td>\n",
       "      <td>65.250000</td>\n",
       "      <td>83.251015</td>\n",
       "      <td>116.900002</td>\n",
       "      <td>137.149994</td>\n",
       "      <td>67.908943</td>\n",
       "      <td>16.160000</td>\n",
       "      <td>5.578690</td>\n",
       "      <td>9.60</td>\n",
       "      <td>67.274742</td>\n",
       "      <td>...</td>\n",
       "      <td>70.185577</td>\n",
       "      <td>34.545818</td>\n",
       "      <td>8.55</td>\n",
       "      <td>9.16</td>\n",
       "      <td>21.165644</td>\n",
       "      <td>4.2</td>\n",
       "      <td>5.417798</td>\n",
       "      <td>39.689999</td>\n",
       "      <td>6.9</td>\n",
       "      <td>22.228636</td>\n",
       "    </tr>\n",
       "    <tr>\n",
       "      <th>2018-01-08</th>\n",
       "      <td>144.461212</td>\n",
       "      <td>67.940002</td>\n",
       "      <td>83.763687</td>\n",
       "      <td>118.500000</td>\n",
       "      <td>138.250000</td>\n",
       "      <td>68.011368</td>\n",
       "      <td>16.459999</td>\n",
       "      <td>5.866773</td>\n",
       "      <td>9.50</td>\n",
       "      <td>67.338989</td>\n",
       "      <td>...</td>\n",
       "      <td>70.806519</td>\n",
       "      <td>35.107185</td>\n",
       "      <td>8.65</td>\n",
       "      <td>9.14</td>\n",
       "      <td>21.766870</td>\n",
       "      <td>4.1</td>\n",
       "      <td>5.524984</td>\n",
       "      <td>40.689999</td>\n",
       "      <td>6.8</td>\n",
       "      <td>22.488749</td>\n",
       "    </tr>\n",
       "  </tbody>\n",
       "</table>\n",
       "<p>5 rows × 42 columns</p>\n",
       "</div>"
      ],
      "text/plain": [
       "                   ACN       ASGN         BR        BTCM        CACI  \\\n",
       "Date                                                                   \n",
       "2018-01-02  139.834549  63.360001  81.668030  107.500000  134.149994   \n",
       "2018-01-03  140.479935  63.110001  81.596077  114.400002  137.800003   \n",
       "2018-01-04  142.143356  64.190002  82.243652  114.400002  136.600006   \n",
       "2018-01-05  143.315918  65.250000  83.251015  116.900002  137.149994   \n",
       "2018-01-08  144.461212  67.940002  83.763687  118.500000  138.250000   \n",
       "\n",
       "                  CDW       CNDT      CSPI  CTLP       CTSH  ...       SAIC  \\\n",
       "Date                                                         ...              \n",
       "2018-01-02  64.948296  16.540001  5.839521  9.75  65.117874  ...  69.789619   \n",
       "2018-01-03  66.847595  16.250000  5.473580  9.70  65.668556  ...  69.636612   \n",
       "2018-01-04  68.020676  16.270000  5.644871  9.50  66.705711  ...  70.158577   \n",
       "2018-01-05  67.908943  16.160000  5.578690  9.60  67.274742  ...  70.185577   \n",
       "2018-01-08  68.011368  16.459999  5.866773  9.50  67.338989  ...  70.806519   \n",
       "\n",
       "                 TTEC   UIS  VNET        VYX  WAVD       WIT        WNS  WYY  \\\n",
       "Date                                                                           \n",
       "2018-01-02  34.718552  8.35  8.42  21.380367   4.2  5.563962  39.869999  6.8   \n",
       "2018-01-03  34.632179  8.35  9.00  21.521473   4.2  5.524984  39.400002  6.9   \n",
       "2018-01-04  34.632179  8.60  8.97  20.907974   4.2  5.505496  39.139999  6.7   \n",
       "2018-01-05  34.545818  8.55  9.16  21.165644   4.2  5.417798  39.689999  6.9   \n",
       "2018-01-08  35.107185  8.65  9.14  21.766870   4.1  5.524984  40.689999  6.8   \n",
       "\n",
       "                  XRX  \n",
       "Date                   \n",
       "2018-01-02  21.827318  \n",
       "2018-01-03  21.797586  \n",
       "2018-01-04  22.065134  \n",
       "2018-01-05  22.228636  \n",
       "2018-01-08  22.488749  \n",
       "\n",
       "[5 rows x 42 columns]"
      ]
     },
     "execution_count": 4,
     "metadata": {},
     "output_type": "execute_result"
    }
   ],
   "source": [
    "\n",
    "def get_data_from_tickers(tickers):\n",
    "    data_dict = {}\n",
    "\n",
    "    for ticker in tickers:\n",
    "        try:\n",
    "            data = yf.download(ticker, start=\"2018-01-01\", end=\"2018-06-01\")\n",
    "\n",
    "            if not data.empty:\n",
    "                data_dict[ticker] = data['Adj Close']\n",
    "        except:\n",
    "            print(f\"Error fetching data for {ticker}. Skipping.\")\n",
    "\n",
    "    combined_data = pd.DataFrame(data_dict)\n",
    "    combined_data = combined_data.dropna(axis=1, how='all')\n",
    "    combined_data.to_csv(\"stock_data_IT.csv\")\n",
    "\n",
    "    return combined_data\n",
    "\n",
    "# Load the data from the CSV file\n",
    "stock_data = pd.read_csv(\"stock_data_IT.csv\", index_col=0)\n",
    "stock_data.head()"
   ]
  },
  {
   "cell_type": "code",
   "execution_count": 5,
   "metadata": {},
   "outputs": [
    {
     "data": {
      "image/png": "[encoded data removed]",
      "text/plain": [
       "<Figure size 1000x600 with 1 Axes>"
      ]
     },
     "metadata": {},
     "output_type": "display_data"
    }
   ],
   "source": [
    "X = stock_data.values\n",
    "\n",
    "scaler = StandardScaler()\n",
    "X_scaled = scaler.fit_transform(X)\n",
    "\n",
    "pca = PCA(n_components=0.95)  # Retain 95% of the variance\n",
    "X_pca = pca.fit_transform(X_scaled)\n",
    "\n",
    "distance_matrix = squareform(pdist(X_pca, metric='euclidean'))\n",
    "thresholds = np.arange(0.2, 1.0, 0.1)\n",
    "pairs_dict = {}\n",
    "\n",
    "for threshold in thresholds:\n",
    "    labels = (distance_matrix < threshold).astype(int)\n",
    "    pairs = np.argwhere(np.triu(labels, k=1) == 1)\n",
    "    pairs_dict[threshold] = pairs\n",
    "\n",
    "plt.figure(figsize=(10, 6))\n",
    "plt.plot(thresholds, [len(pairs) for pairs in pairs_dict.values()])\n",
    "plt.xlabel('Distance Threshold')\n",
    "plt.ylabel('Number of Pairs')\n",
    "plt.title('Distance Threshold vs. Number of Pairs')\n",
    "plt.show()"
   ]
  },
  {
   "cell_type": "code",
   "execution_count": 6,
   "metadata": {},
   "outputs": [
    {
     "name": "stdout",
     "output_type": "stream",
     "text": [
      "Highly Correlated Stock Pairs:\n",
      "ACN - BR\n",
      "ACN - CTSH\n",
      "BR - ACN\n",
      "BR - JKHY\n",
      "CTSH - ACN\n",
      "FIS - JKHY\n",
      "JKHY - BR\n",
      "JKHY - FIS\n"
     ]
    }
   ],
   "source": [
    "import pandas as pd\n",
    "import numpy as np\n",
    "\n",
    "data = pd.read_csv(\"stock_data_IT.csv\")\n",
    "data = data.select_dtypes(include=[np.number])\n",
    "\n",
    "\n",
    "daily_returns = data.pct_change()\n",
    "correlation_matrix = daily_returns.corr()\n",
    "correlation_threshold = 0.7\n",
    "\n",
    "high_corr_pairs = []\n",
    "for col1 in correlation_matrix.columns:\n",
    "  for col2 in correlation_matrix.columns:\n",
    "    if col1 != col2 and correlation_matrix.loc[col1, col2] > correlation_threshold:\n",
    "      high_corr_pairs.append((col1, col2))\n",
    "\n",
    "print(\"Highly Correlated Stock Pairs:\")\n",
    "for pair in high_corr_pairs:\n",
    "  print(f\"{pair[0]} - {pair[1]}\")\n"
   ]
  },
  {
   "cell_type": "code",
   "execution_count": 22,
   "metadata": {},
   "outputs": [],
   "source": [
    "# Create trading bot with newly processed data\n",
    "def runSim(stock1, stock2):\n",
    "    interface = 0\n",
    "    stocks = [stock1,stock2]\n",
    "    start = '2019-12-31'\n",
    "    end = '2021-03-08'\n",
    "    fee = 0.001\n",
    "    window = 252\n",
    "    t_threshold = -2.5\n",
    "\n",
    "    data = pd.DataFrame()\n",
    "    returns = pd.DataFrame()\n",
    "    for stock in stocks:\n",
    "        prices = yf.download(stock, start, end)\n",
    "        data[stock] = prices['Close']\n",
    "        returns[stock] = np.append(data[stock][1:].reset_index(drop=True)/data[stock][:-1].reset_index(drop=True) - 1 , 0)\n",
    "\n",
    "    gross_returns = np.array([])\n",
    "    net_returns = np.array([])\n",
    "    t_s = np.array([])\n",
    "    stock1 = stocks[0]\n",
    "    stock2 = stocks[1]\n",
    "\n",
    "\n",
    "    for t in range(window, len(data)):\n",
    "\n",
    "        #defining the unit root function: stock2 = a + b*stock1\n",
    "        def unit_root(b):\n",
    "            a = np.average(data[stock2][t-window:t] - b*data[stock1][t-window:t])\n",
    "            fair_value = a + b*data[stock1][t-window:t]\n",
    "            diff = np.array(fair_value - data[stock2][t-window:t])\n",
    "            diff_diff = diff[1:] - diff[:-1]\n",
    "            reg = sm.OLS(diff_diff, diff[:-1])\n",
    "            res = reg.fit()\n",
    "            return res.params[0]/res.bse[0]\n",
    "\n",
    "        res1 = spop.minimize(unit_root, data[stock2][t]/data[stock1][t], method='Nelder-Mead')\n",
    "        t_opt = res1.fun\n",
    "        b_opt = float(res1.x)\n",
    "        a_opt = np.average(data[stock2][t-window:t] - b_opt*data[stock1][t-window:t])\n",
    "\n",
    "        # Trade SIm\n",
    "        fair_value = a_opt + b_opt*data[stock1][t]\n",
    "        if t == window:\n",
    "            old_signal = 0\n",
    "        if t_opt > t_threshold:\n",
    "            signal = 0\n",
    "            gross_return = 0\n",
    "        else:\n",
    "            signal = np.sign(fair_value - data[stock2][t])\n",
    "            gross_return = signal*returns[stock2][t] - signal*returns[stock1][t]\n",
    "        fees = fee*abs(signal - old_signal)\n",
    "        net_return = gross_return - fees\n",
    "        gross_returns = np.append(gross_returns, gross_return)\n",
    "        net_returns = np.append(net_returns, net_return)\n",
    "        t_s = np.append(t_s, t_opt)\n",
    "\n",
    "        # remove later\n",
    "        if interface == 1:\n",
    "            print('day '+str(data.index[t]))\n",
    "            print('')\n",
    "            if signal == 0:\n",
    "                print('no trading')\n",
    "            elif  signal == 1:\n",
    "                print('long position on '+stock2+' and short position on '+stock1)\n",
    "            else:\n",
    "                print('long position on '+stock1+' and short position on '+stock2)\n",
    "            print('gross daily return: '+str(round(gross_return*100,2))+'%')\n",
    "            print('net daily return: '+str(round(net_return*100,2))+'%')\n",
    "            print('cumulative net return so far: '+str(round(np.prod(1+net_returns)*100-100,2))+'%')\n",
    "            print('')\n",
    "        old_signal = signal\n",
    "\n",
    "\n",
    "\n",
    "    return (np.append(1,np.cumprod(1+gross_returns))), (np.append(1,np.cumprod(1+net_returns)))\n",
    "\n",
    "def plotSim(stock1, stock2):\n",
    "    equity_curve_gross, equity_curve_net = runSim(stock1, stock2)\n",
    "    plt.title('Pairs Profit')\n",
    "    plt.plot(equity_curve_gross, label='gross returns')\n",
    "    plt.plot(equity_curve_net, label='net returns')\n",
    "    plt.legend()\n",
    "    plt.show()\n",
    "\n",
    "def net_equity(stock1,stock2):\n",
    "    return (runSim(stock1,stock2)[1][-1] - 1) * 100"
   ]
  },
  {
   "cell_type": "code",
   "execution_count": 25,
   "metadata": {},
   "outputs": [
    {
     "name": "stderr",
     "output_type": "stream",
     "text": [
      "[*********************100%%**********************]  1 of 1 completed"
     ]
    },
    {
     "name": "stderr",
     "output_type": "stream",
     "text": [
      "\n",
      "[*********************100%%**********************]  1 of 1 completed\n",
      "[*********************100%%**********************]  1 of 1 completed\n",
      "[*********************100%%**********************]  1 of 1 completed"
     ]
    },
    {
     "name": "stdout",
     "output_type": "stream",
     "text": [
      " ROI is 2.758924638098259 %\n"
     ]
    },
    {
     "name": "stderr",
     "output_type": "stream",
     "text": [
      "\n",
      "[*********************100%%**********************]  1 of 1 completed\n",
      "[*********************100%%**********************]  1 of 1 completed"
     ]
    },
    {
     "name": "stdout",
     "output_type": "stream",
     "text": [
      " ROI is 0.948848262958113 %\n"
     ]
    },
    {
     "name": "stderr",
     "output_type": "stream",
     "text": [
      "\n",
      "[*********************100%%**********************]  1 of 1 completed\n",
      "[*********************100%%**********************]  1 of 1 completed"
     ]
    },
    {
     "name": "stdout",
     "output_type": "stream",
     "text": [
      " ROI is 2.758924638098259 %\n"
     ]
    },
    {
     "name": "stderr",
     "output_type": "stream",
     "text": [
      "\n",
      "[*********************100%%**********************]  1 of 1 completed\n",
      "[*********************100%%**********************]  1 of 1 completed"
     ]
    },
    {
     "name": "stdout",
     "output_type": "stream",
     "text": [
      " ROI is 2.6225362469753266 %\n"
     ]
    },
    {
     "name": "stderr",
     "output_type": "stream",
     "text": [
      "\n",
      "[*********************100%%**********************]  1 of 1 completed\n",
      "[*********************100%%**********************]  1 of 1 completed"
     ]
    },
    {
     "name": "stdout",
     "output_type": "stream",
     "text": [
      " ROI is 0.948848262958113 %\n"
     ]
    },
    {
     "name": "stderr",
     "output_type": "stream",
     "text": [
      "\n",
      "[*********************100%%**********************]  1 of 1 completed\n",
      "[*********************100%%**********************]  1 of 1 completed"
     ]
    },
    {
     "name": "stdout",
     "output_type": "stream",
     "text": [
      " ROI is -6.460527635452262 %\n"
     ]
    },
    {
     "name": "stderr",
     "output_type": "stream",
     "text": [
      "\n",
      "[*********************100%%**********************]  1 of 1 completed\n",
      "[*********************100%%**********************]  1 of 1 completed"
     ]
    },
    {
     "name": "stdout",
     "output_type": "stream",
     "text": [
      " ROI is -2.467494514280144 %\n"
     ]
    },
    {
     "name": "stderr",
     "output_type": "stream",
     "text": [
      "\n"
     ]
    },
    {
     "name": "stdout",
     "output_type": "stream",
     "text": [
      " ROI is 8.920862593567257 %\n",
      "Total ROI is 10.030922492922922 %\n"
     ]
    }
   ],
   "source": [
    "import warnings\n",
    "warnings.filterwarnings(\"ignore\", message=\"Conversion of an array with ndim > 0 to a scalar is deprecated...\")\n",
    "\n",
    "total = 0\n",
    "\n",
    "for pair in high_corr_pairs:\n",
    "    n_eq= net_equity(pair[0],pair[1])\n",
    "    print(f\" ROI is {n_eq} %\")\n",
    "    total += n_eq\n",
    "print(f\"Total ROI is {total} %\")"
   ]
  },
  {
   "cell_type": "code",
   "execution_count": null,
   "metadata": {},
   "outputs": [],
   "source": [
    "from sklearn.neural_network import MLPRegressor\n",
    "from sklearn.model_selection import train_test_split\n",
    "from sklearn.metrics import mean_squared_error\n",
    "\n",
    "\n",
    "stock_data = pd.read_csv(\"stock_data_IT.csv\", index_col=0)\n",
    "\n",
    "# Prepare the data\n",
    "X = stock_data.dropna(axis=1)  # Dropping NaN columns\n",
    "y = X.pop(X.columns[0])  # First Column is the target value \n",
    "\n",
    "# Split the data into training and testing sets\n",
    "X_train, X_test, y_train, y_test = train_test_split(X, y, test_size=0.2, random_state=42)\n",
    "\n",
    "# Train the MLPRegressor\n",
    "mlp = MLPRegressor(hidden_layer_sizes=(100, 50), max_iter=1000, random_state=42)\n",
    "mlp.fit(X_train, y_train)\n",
    "\n",
    "predictions = mlp.predict(X_test)\n",
    "\n",
    "# Evaluate the model\n",
    "mse = mean_squared_error(y_test, predictions)\n",
    "print(\"Mean Squared Error:\", mse)\n",
    "\n"
   ]
  }
 ],
 "metadata": {
  "kernelspec": {
   "display_name": "base",
   "language": "python",
   "name": "python3"
  },
  "language_info": {
   "codemirror_mode": {
    "name": "ipython",
    "version": 3
   },
   "file_extension": ".py",
   "mimetype": "text/x-python",
   "name": "python",
   "nbconvert_exporter": "python",
   "pygments_lexer": "ipython3",
   "version": "3.11.5"
  }
 },
 "nbformat": 4,
 "nbformat_minor": 2
}
