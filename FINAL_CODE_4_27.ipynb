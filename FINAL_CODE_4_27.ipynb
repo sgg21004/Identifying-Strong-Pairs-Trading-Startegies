{
  "cells": [
    {
      "cell_type": "code",
      "execution_count": 58,
      "metadata": {
        "id": "yVyZp7HQIV0v"
      },
      "outputs": [],
      "source": [
        "import requests\n",
        "import pandas as pd\n",
        "import numpy as np\n",
        "import matplotlib.pyplot as plt\n",
        "from bs4 import BeautifulSoup\n",
        "from sklearn.decomposition import PCA\n",
        "from sklearn.neural_network import MLPClassifier\n",
        "from sklearn.preprocessing import StandardScaler\n",
        "from sklearn.model_selection import train_test_split\n",
        "from sklearn.metrics import accuracy_score, f1_score\n",
        "from scipy.spatial.distance import pdist, squareform\n",
        "import yfinance as yf\n",
        "import statsmodels.api as sm\n",
        "import scipy.optimize as spop\n",
        "import matplotlib.pyplot as plt\n"
      ]
    },
    {
      "cell_type": "code",
      "execution_count": 59,
      "metadata": {
        "id": "_3Bz6PRZIV0w",
        "outputId": "b9f16440-6eb5-4ec4-d975-74f093256603",
        "colab": {
          "base_uri": "https://localhost:8080/"
        }
      },
      "outputs": [
        {
          "output_type": "stream",
          "name": "stdout",
          "text": [
            "['ACN', 'IBM', 'FI', 'INFY', 'FIS', 'CTSH', 'IT', 'CDW', 'WIT', 'GIB', 'BR', 'LDOS', 'EPAM', 'JKHY', 'CACI', 'PSN', 'GLOB', 'SAIC', 'G', 'EXLS', 'CLVT', 'KD', 'ASGN', 'AUR', 'CNXC', 'DXC', 'NABL', 'WNS', 'VYX', 'PRFT', 'XRX', 'GDS', 'FORTY', 'TASK', 'NYAX', 'GDYN', 'CNDT', 'TWKS', 'HCKT', 'MGIC', 'DMRC', 'VNET', 'CTLP', 'BBAI', 'UIS', 'TTEC', 'IBEX', 'INOD', 'NOTE', 'III', 'CSPI', 'JFU', 'DTST', 'GMM', 'BTCM', 'ARBB', 'CLPS', 'WYY', 'CTM', 'WAVD']\n"
          ]
        }
      ],
      "source": [
        "def get_IT_tickers(sector):\n",
        "    # URL for Stock Analysis's list of energy sector companies\n",
        "    # url = f\"https://stockanalysis.com/stocks/sector/{sector}/\"\n",
        "    url = f\"https://stockanalysis.com/stocks/industry/{sector}/\"\n",
        "    # url = f\"https://stockanalysis.com/stocks\"\n",
        "\n",
        "    response = requests.get(url)\n",
        "    html_content = response.content\n",
        "\n",
        "    soup = BeautifulSoup(html_content, \"html.parser\")\n",
        "    ticker_elements = soup.select(\"td a\") # .svelte-eurwtr\n",
        "    tickers = [elem.text for elem in ticker_elements]\n",
        "\n",
        "    return tickers\n",
        "\n",
        "tickers = get_IT_tickers(\"information-technology-services\")\n",
        "print(tickers)"
      ]
    },
    {
      "cell_type": "code",
      "execution_count": 60,
      "metadata": {
        "id": "pyqocSp5IV0x",
        "outputId": "4255fdcc-c323-44af-da89-e5d5b5ceebc3",
        "colab": {
          "base_uri": "https://localhost:8080/",
          "height": 374
        }
      },
      "outputs": [
        {
          "output_type": "execute_result",
          "data": {
            "text/plain": [
              "                   ACN       ASGN         BR        BTCM        CACI  \\\n",
              "Date                                                                   \n",
              "2018-01-02  139.834549  63.360001  81.668030  107.500000  134.149994   \n",
              "2018-01-03  140.479935  63.110001  81.596077  114.400002  137.800003   \n",
              "2018-01-04  142.143356  64.190002  82.243652  114.400002  136.600006   \n",
              "2018-01-05  143.315918  65.250000  83.251015  116.900002  137.149994   \n",
              "2018-01-08  144.461212  67.940002  83.763687  118.500000  138.250000   \n",
              "\n",
              "                  CDW       CNDT      CSPI  CTLP       CTSH  ...       SAIC  \\\n",
              "Date                                                         ...              \n",
              "2018-01-02  64.948296  16.540001  5.839521  9.75  65.117874  ...  69.789619   \n",
              "2018-01-03  66.847595  16.250000  5.473580  9.70  65.668556  ...  69.636612   \n",
              "2018-01-04  68.020676  16.270000  5.644871  9.50  66.705711  ...  70.158577   \n",
              "2018-01-05  67.908943  16.160000  5.578690  9.60  67.274742  ...  70.185577   \n",
              "2018-01-08  68.011368  16.459999  5.866773  9.50  67.338989  ...  70.806519   \n",
              "\n",
              "                 TTEC   UIS  VNET        VYX  WAVD       WIT        WNS  WYY  \\\n",
              "Date                                                                           \n",
              "2018-01-02  34.718552  8.35  8.42  21.380367   4.2  5.563962  39.869999  6.8   \n",
              "2018-01-03  34.632179  8.35  9.00  21.521473   4.2  5.524984  39.400002  6.9   \n",
              "2018-01-04  34.632179  8.60  8.97  20.907974   4.2  5.505496  39.139999  6.7   \n",
              "2018-01-05  34.545818  8.55  9.16  21.165644   4.2  5.417798  39.689999  6.9   \n",
              "2018-01-08  35.107185  8.65  9.14  21.766870   4.1  5.524984  40.689999  6.8   \n",
              "\n",
              "                  XRX  \n",
              "Date                   \n",
              "2018-01-02  21.827318  \n",
              "2018-01-03  21.797586  \n",
              "2018-01-04  22.065134  \n",
              "2018-01-05  22.228636  \n",
              "2018-01-08  22.488749  \n",
              "\n",
              "[5 rows x 42 columns]"
            ],
            "text/html": [
              "\n",
              "  <div id=\"df-ffcb78ad-6c13-4fc7-bdbe-d54909422b7d\" class=\"colab-df-container\">\n",
              "    <div>\n",
              "<style scoped>\n",
              "    .dataframe tbody tr th:only-of-type {\n",
              "        vertical-align: middle;\n",
              "    }\n",
              "\n",
              "    .dataframe tbody tr th {\n",
              "        vertical-align: top;\n",
              "    }\n",
              "\n",
              "    .dataframe thead th {\n",
              "        text-align: right;\n",
              "    }\n",
              "</style>\n",
              "<table border=\"1\" class=\"dataframe\">\n",
              "  <thead>\n",
              "    <tr style=\"text-align: right;\">\n",
              "      <th></th>\n",
              "      <th>ACN</th>\n",
              "      <th>ASGN</th>\n",
              "      <th>BR</th>\n",
              "      <th>BTCM</th>\n",
              "      <th>CACI</th>\n",
              "      <th>CDW</th>\n",
              "      <th>CNDT</th>\n",
              "      <th>CSPI</th>\n",
              "      <th>CTLP</th>\n",
              "      <th>CTSH</th>\n",
              "      <th>...</th>\n",
              "      <th>SAIC</th>\n",
              "      <th>TTEC</th>\n",
              "      <th>UIS</th>\n",
              "      <th>VNET</th>\n",
              "      <th>VYX</th>\n",
              "      <th>WAVD</th>\n",
              "      <th>WIT</th>\n",
              "      <th>WNS</th>\n",
              "      <th>WYY</th>\n",
              "      <th>XRX</th>\n",
              "    </tr>\n",
              "    <tr>\n",
              "      <th>Date</th>\n",
              "      <th></th>\n",
              "      <th></th>\n",
              "      <th></th>\n",
              "      <th></th>\n",
              "      <th></th>\n",
              "      <th></th>\n",
              "      <th></th>\n",
              "      <th></th>\n",
              "      <th></th>\n",
              "      <th></th>\n",
              "      <th></th>\n",
              "      <th></th>\n",
              "      <th></th>\n",
              "      <th></th>\n",
              "      <th></th>\n",
              "      <th></th>\n",
              "      <th></th>\n",
              "      <th></th>\n",
              "      <th></th>\n",
              "      <th></th>\n",
              "      <th></th>\n",
              "    </tr>\n",
              "  </thead>\n",
              "  <tbody>\n",
              "    <tr>\n",
              "      <th>2018-01-02</th>\n",
              "      <td>139.834549</td>\n",
              "      <td>63.360001</td>\n",
              "      <td>81.668030</td>\n",
              "      <td>107.500000</td>\n",
              "      <td>134.149994</td>\n",
              "      <td>64.948296</td>\n",
              "      <td>16.540001</td>\n",
              "      <td>5.839521</td>\n",
              "      <td>9.75</td>\n",
              "      <td>65.117874</td>\n",
              "      <td>...</td>\n",
              "      <td>69.789619</td>\n",
              "      <td>34.718552</td>\n",
              "      <td>8.35</td>\n",
              "      <td>8.42</td>\n",
              "      <td>21.380367</td>\n",
              "      <td>4.2</td>\n",
              "      <td>5.563962</td>\n",
              "      <td>39.869999</td>\n",
              "      <td>6.8</td>\n",
              "      <td>21.827318</td>\n",
              "    </tr>\n",
              "    <tr>\n",
              "      <th>2018-01-03</th>\n",
              "      <td>140.479935</td>\n",
              "      <td>63.110001</td>\n",
              "      <td>81.596077</td>\n",
              "      <td>114.400002</td>\n",
              "      <td>137.800003</td>\n",
              "      <td>66.847595</td>\n",
              "      <td>16.250000</td>\n",
              "      <td>5.473580</td>\n",
              "      <td>9.70</td>\n",
              "      <td>65.668556</td>\n",
              "      <td>...</td>\n",
              "      <td>69.636612</td>\n",
              "      <td>34.632179</td>\n",
              "      <td>8.35</td>\n",
              "      <td>9.00</td>\n",
              "      <td>21.521473</td>\n",
              "      <td>4.2</td>\n",
              "      <td>5.524984</td>\n",
              "      <td>39.400002</td>\n",
              "      <td>6.9</td>\n",
              "      <td>21.797586</td>\n",
              "    </tr>\n",
              "    <tr>\n",
              "      <th>2018-01-04</th>\n",
              "      <td>142.143356</td>\n",
              "      <td>64.190002</td>\n",
              "      <td>82.243652</td>\n",
              "      <td>114.400002</td>\n",
              "      <td>136.600006</td>\n",
              "      <td>68.020676</td>\n",
              "      <td>16.270000</td>\n",
              "      <td>5.644871</td>\n",
              "      <td>9.50</td>\n",
              "      <td>66.705711</td>\n",
              "      <td>...</td>\n",
              "      <td>70.158577</td>\n",
              "      <td>34.632179</td>\n",
              "      <td>8.60</td>\n",
              "      <td>8.97</td>\n",
              "      <td>20.907974</td>\n",
              "      <td>4.2</td>\n",
              "      <td>5.505496</td>\n",
              "      <td>39.139999</td>\n",
              "      <td>6.7</td>\n",
              "      <td>22.065134</td>\n",
              "    </tr>\n",
              "    <tr>\n",
              "      <th>2018-01-05</th>\n",
              "      <td>143.315918</td>\n",
              "      <td>65.250000</td>\n",
              "      <td>83.251015</td>\n",
              "      <td>116.900002</td>\n",
              "      <td>137.149994</td>\n",
              "      <td>67.908943</td>\n",
              "      <td>16.160000</td>\n",
              "      <td>5.578690</td>\n",
              "      <td>9.60</td>\n",
              "      <td>67.274742</td>\n",
              "      <td>...</td>\n",
              "      <td>70.185577</td>\n",
              "      <td>34.545818</td>\n",
              "      <td>8.55</td>\n",
              "      <td>9.16</td>\n",
              "      <td>21.165644</td>\n",
              "      <td>4.2</td>\n",
              "      <td>5.417798</td>\n",
              "      <td>39.689999</td>\n",
              "      <td>6.9</td>\n",
              "      <td>22.228636</td>\n",
              "    </tr>\n",
              "    <tr>\n",
              "      <th>2018-01-08</th>\n",
              "      <td>144.461212</td>\n",
              "      <td>67.940002</td>\n",
              "      <td>83.763687</td>\n",
              "      <td>118.500000</td>\n",
              "      <td>138.250000</td>\n",
              "      <td>68.011368</td>\n",
              "      <td>16.459999</td>\n",
              "      <td>5.866773</td>\n",
              "      <td>9.50</td>\n",
              "      <td>67.338989</td>\n",
              "      <td>...</td>\n",
              "      <td>70.806519</td>\n",
              "      <td>35.107185</td>\n",
              "      <td>8.65</td>\n",
              "      <td>9.14</td>\n",
              "      <td>21.766870</td>\n",
              "      <td>4.1</td>\n",
              "      <td>5.524984</td>\n",
              "      <td>40.689999</td>\n",
              "      <td>6.8</td>\n",
              "      <td>22.488749</td>\n",
              "    </tr>\n",
              "  </tbody>\n",
              "</table>\n",
              "<p>5 rows × 42 columns</p>\n",
              "</div>\n",
              "    <div class=\"colab-df-buttons\">\n",
              "\n",
              "  <div class=\"colab-df-container\">\n",
              "    <button class=\"colab-df-convert\" onclick=\"convertToInteractive('df-ffcb78ad-6c13-4fc7-bdbe-d54909422b7d')\"\n",
              "            title=\"Convert this dataframe to an interactive table.\"\n",
              "            style=\"display:none;\">\n",
              "\n",
              "  <svg xmlns=\"http://www.w3.org/2000/svg\" height=\"24px\" viewBox=\"0 -960 960 960\">\n",
              "    <path d=\"M120-120v-720h720v720H120Zm60-500h600v-160H180v160Zm220 220h160v-160H400v160Zm0 220h160v-160H400v160ZM180-400h160v-160H180v160Zm440 0h160v-160H620v160ZM180-180h160v-160H180v160Zm440 0h160v-160H620v160Z\"/>\n",
              "  </svg>\n",
              "    </button>\n",
              "\n",
              "  <style>\n",
              "    .colab-df-container {\n",
              "      display:flex;\n",
              "      gap: 12px;\n",
              "    }\n",
              "\n",
              "    .colab-df-convert {\n",
              "      background-color: #E8F0FE;\n",
              "      border: none;\n",
              "      border-radius: 50%;\n",
              "      cursor: pointer;\n",
              "      display: none;\n",
              "      fill: #1967D2;\n",
              "      height: 32px;\n",
              "      padding: 0 0 0 0;\n",
              "      width: 32px;\n",
              "    }\n",
              "\n",
              "    .colab-df-convert:hover {\n",
              "      background-color: #E2EBFA;\n",
              "      box-shadow: 0px 1px 2px rgba(60, 64, 67, 0.3), 0px 1px 3px 1px rgba(60, 64, 67, 0.15);\n",
              "      fill: #174EA6;\n",
              "    }\n",
              "\n",
              "    .colab-df-buttons div {\n",
              "      margin-bottom: 4px;\n",
              "    }\n",
              "\n",
              "    [theme=dark] .colab-df-convert {\n",
              "      background-color: #3B4455;\n",
              "      fill: #D2E3FC;\n",
              "    }\n",
              "\n",
              "    [theme=dark] .colab-df-convert:hover {\n",
              "      background-color: #434B5C;\n",
              "      box-shadow: 0px 1px 3px 1px rgba(0, 0, 0, 0.15);\n",
              "      filter: drop-shadow(0px 1px 2px rgba(0, 0, 0, 0.3));\n",
              "      fill: #FFFFFF;\n",
              "    }\n",
              "  </style>\n",
              "\n",
              "    <script>\n",
              "      const buttonEl =\n",
              "        document.querySelector('#df-ffcb78ad-6c13-4fc7-bdbe-d54909422b7d button.colab-df-convert');\n",
              "      buttonEl.style.display =\n",
              "        google.colab.kernel.accessAllowed ? 'block' : 'none';\n",
              "\n",
              "      async function convertToInteractive(key) {\n",
              "        const element = document.querySelector('#df-ffcb78ad-6c13-4fc7-bdbe-d54909422b7d');\n",
              "        const dataTable =\n",
              "          await google.colab.kernel.invokeFunction('convertToInteractive',\n",
              "                                                    [key], {});\n",
              "        if (!dataTable) return;\n",
              "\n",
              "        const docLinkHtml = 'Like what you see? Visit the ' +\n",
              "          '<a target=\"_blank\" href=https://colab.research.google.com/notebooks/data_table.ipynb>data table notebook</a>'\n",
              "          + ' to learn more about interactive tables.';\n",
              "        element.innerHTML = '';\n",
              "        dataTable['output_type'] = 'display_data';\n",
              "        await google.colab.output.renderOutput(dataTable, element);\n",
              "        const docLink = document.createElement('div');\n",
              "        docLink.innerHTML = docLinkHtml;\n",
              "        element.appendChild(docLink);\n",
              "      }\n",
              "    </script>\n",
              "  </div>\n",
              "\n",
              "\n",
              "<div id=\"df-5eebbfdb-519d-4ace-92a6-677aa6e87c39\">\n",
              "  <button class=\"colab-df-quickchart\" onclick=\"quickchart('df-5eebbfdb-519d-4ace-92a6-677aa6e87c39')\"\n",
              "            title=\"Suggest charts\"\n",
              "            style=\"display:none;\">\n",
              "\n",
              "<svg xmlns=\"http://www.w3.org/2000/svg\" height=\"24px\"viewBox=\"0 0 24 24\"\n",
              "     width=\"24px\">\n",
              "    <g>\n",
              "        <path d=\"M19 3H5c-1.1 0-2 .9-2 2v14c0 1.1.9 2 2 2h14c1.1 0 2-.9 2-2V5c0-1.1-.9-2-2-2zM9 17H7v-7h2v7zm4 0h-2V7h2v10zm4 0h-2v-4h2v4z\"/>\n",
              "    </g>\n",
              "</svg>\n",
              "  </button>\n",
              "\n",
              "<style>\n",
              "  .colab-df-quickchart {\n",
              "      --bg-color: #E8F0FE;\n",
              "      --fill-color: #1967D2;\n",
              "      --hover-bg-color: #E2EBFA;\n",
              "      --hover-fill-color: #174EA6;\n",
              "      --disabled-fill-color: #AAA;\n",
              "      --disabled-bg-color: #DDD;\n",
              "  }\n",
              "\n",
              "  [theme=dark] .colab-df-quickchart {\n",
              "      --bg-color: #3B4455;\n",
              "      --fill-color: #D2E3FC;\n",
              "      --hover-bg-color: #434B5C;\n",
              "      --hover-fill-color: #FFFFFF;\n",
              "      --disabled-bg-color: #3B4455;\n",
              "      --disabled-fill-color: #666;\n",
              "  }\n",
              "\n",
              "  .colab-df-quickchart {\n",
              "    background-color: var(--bg-color);\n",
              "    border: none;\n",
              "    border-radius: 50%;\n",
              "    cursor: pointer;\n",
              "    display: none;\n",
              "    fill: var(--fill-color);\n",
              "    height: 32px;\n",
              "    padding: 0;\n",
              "    width: 32px;\n",
              "  }\n",
              "\n",
              "  .colab-df-quickchart:hover {\n",
              "    background-color: var(--hover-bg-color);\n",
              "    box-shadow: 0 1px 2px rgba(60, 64, 67, 0.3), 0 1px 3px 1px rgba(60, 64, 67, 0.15);\n",
              "    fill: var(--button-hover-fill-color);\n",
              "  }\n",
              "\n",
              "  .colab-df-quickchart-complete:disabled,\n",
              "  .colab-df-quickchart-complete:disabled:hover {\n",
              "    background-color: var(--disabled-bg-color);\n",
              "    fill: var(--disabled-fill-color);\n",
              "    box-shadow: none;\n",
              "  }\n",
              "\n",
              "  .colab-df-spinner {\n",
              "    border: 2px solid var(--fill-color);\n",
              "    border-color: transparent;\n",
              "    border-bottom-color: var(--fill-color);\n",
              "    animation:\n",
              "      spin 1s steps(1) infinite;\n",
              "  }\n",
              "\n",
              "  @keyframes spin {\n",
              "    0% {\n",
              "      border-color: transparent;\n",
              "      border-bottom-color: var(--fill-color);\n",
              "      border-left-color: var(--fill-color);\n",
              "    }\n",
              "    20% {\n",
              "      border-color: transparent;\n",
              "      border-left-color: var(--fill-color);\n",
              "      border-top-color: var(--fill-color);\n",
              "    }\n",
              "    30% {\n",
              "      border-color: transparent;\n",
              "      border-left-color: var(--fill-color);\n",
              "      border-top-color: var(--fill-color);\n",
              "      border-right-color: var(--fill-color);\n",
              "    }\n",
              "    40% {\n",
              "      border-color: transparent;\n",
              "      border-right-color: var(--fill-color);\n",
              "      border-top-color: var(--fill-color);\n",
              "    }\n",
              "    60% {\n",
              "      border-color: transparent;\n",
              "      border-right-color: var(--fill-color);\n",
              "    }\n",
              "    80% {\n",
              "      border-color: transparent;\n",
              "      border-right-color: var(--fill-color);\n",
              "      border-bottom-color: var(--fill-color);\n",
              "    }\n",
              "    90% {\n",
              "      border-color: transparent;\n",
              "      border-bottom-color: var(--fill-color);\n",
              "    }\n",
              "  }\n",
              "</style>\n",
              "\n",
              "  <script>\n",
              "    async function quickchart(key) {\n",
              "      const quickchartButtonEl =\n",
              "        document.querySelector('#' + key + ' button');\n",
              "      quickchartButtonEl.disabled = true;  // To prevent multiple clicks.\n",
              "      quickchartButtonEl.classList.add('colab-df-spinner');\n",
              "      try {\n",
              "        const charts = await google.colab.kernel.invokeFunction(\n",
              "            'suggestCharts', [key], {});\n",
              "      } catch (error) {\n",
              "        console.error('Error during call to suggestCharts:', error);\n",
              "      }\n",
              "      quickchartButtonEl.classList.remove('colab-df-spinner');\n",
              "      quickchartButtonEl.classList.add('colab-df-quickchart-complete');\n",
              "    }\n",
              "    (() => {\n",
              "      let quickchartButtonEl =\n",
              "        document.querySelector('#df-5eebbfdb-519d-4ace-92a6-677aa6e87c39 button');\n",
              "      quickchartButtonEl.style.display =\n",
              "        google.colab.kernel.accessAllowed ? 'block' : 'none';\n",
              "    })();\n",
              "  </script>\n",
              "</div>\n",
              "    </div>\n",
              "  </div>\n"
            ],
            "application/vnd.google.colaboratory.intrinsic+json": {
              "type": "dataframe",
              "variable_name": "stock_data"
            }
          },
          "metadata": {},
          "execution_count": 60
        }
      ],
      "source": [
        "\n",
        "def get_data_from_tickers(tickers):\n",
        "    data_dict = {}\n",
        "\n",
        "    for ticker in tickers:\n",
        "        try:\n",
        "            data = yf.download(ticker, start=\"2018-01-01\", end=\"2018-06-01\")\n",
        "\n",
        "            if not data.empty:\n",
        "                data_dict[ticker] = data['Adj Close']\n",
        "        except:\n",
        "            print(f\"Error fetching data for {ticker}. Skipping.\")\n",
        "\n",
        "    combined_data = pd.DataFrame(data_dict)\n",
        "    combined_data = combined_data.dropna(axis=1, how='all')\n",
        "    combined_data.to_csv(\"stock_data_IT.csv\")\n",
        "\n",
        "    return combined_data\n",
        "\n",
        "# Load the data from the CSV file\n",
        "stock_data = pd.read_csv(\"stock_data_IT.csv\", index_col=0)\n",
        "stock_data.head()"
      ]
    },
    {
      "cell_type": "code",
      "execution_count": 61,
      "metadata": {
        "id": "PjyoSGbFIV0x",
        "outputId": "d673b962-b7ac-49c0-a9ca-b89de3b8b2a1",
        "colab": {
          "base_uri": "https://localhost:8080/",
          "height": 564
        }
      },
      "outputs": [
        {
          "output_type": "display_data",
          "data": {
            "text/plain": [
              "<Figure size 1000x600 with 1 Axes>"
            ],
            "image/png": "[encoded data removed]"
          },
          "metadata": {}
        }
      ],
      "source": [
        "X = stock_data.values\n",
        "\n",
        "scaler = StandardScaler()\n",
        "X_scaled = scaler.fit_transform(X)\n",
        "\n",
        "pca = PCA(n_components=0.95)  # Retain 95% of the variance\n",
        "X_pca = pca.fit_transform(X_scaled)\n",
        "\n",
        "distance_matrix = squareform(pdist(X_pca, metric='euclidean'))\n",
        "thresholds = np.arange(0.2, 1.0, 0.1)\n",
        "pairs_dict = {}\n",
        "\n",
        "for threshold in thresholds:\n",
        "    labels = (distance_matrix < threshold).astype(int)\n",
        "    pairs = np.argwhere(np.triu(labels, k=1) == 1)\n",
        "    pairs_dict[threshold] = pairs\n",
        "\n",
        "plt.figure(figsize=(10, 6))\n",
        "plt.plot(thresholds, [len(pairs) for pairs in pairs_dict.values()])\n",
        "plt.xlabel('Distance Threshold')\n",
        "plt.ylabel('Number of Pairs')\n",
        "plt.title('Distance Threshold vs. Number of Pairs')\n",
        "plt.show()"
      ]
    },
    {
      "cell_type": "code",
      "execution_count": 62,
      "metadata": {
        "id": "ab30dNKGIV0x",
        "outputId": "a6a36aae-20eb-4156-f928-1a31270d2e8e",
        "colab": {
          "base_uri": "https://localhost:8080/"
        }
      },
      "outputs": [
        {
          "output_type": "stream",
          "name": "stdout",
          "text": [
            "Highly Correlated Stock Pairs:\n",
            "ACN - BR\n",
            "ACN - CTSH\n",
            "BR - ACN\n",
            "BR - JKHY\n",
            "CTSH - ACN\n",
            "FIS - JKHY\n",
            "JKHY - BR\n",
            "JKHY - FIS\n"
          ]
        }
      ],
      "source": [
        "import pandas as pd\n",
        "import numpy as np\n",
        "\n",
        "data = pd.read_csv(\"stock_data_IT.csv\")\n",
        "data = data.select_dtypes(include=[np.number])\n",
        "\n",
        "\n",
        "daily_returns = data.pct_change()\n",
        "correlation_matrix = daily_returns.corr()\n",
        "correlation_threshold = 0.7\n",
        "\n",
        "high_corr_pairs = []\n",
        "for col1 in correlation_matrix.columns:\n",
        "  for col2 in correlation_matrix.columns:\n",
        "    if col1 != col2 and correlation_matrix.loc[col1, col2] > correlation_threshold:\n",
        "      high_corr_pairs.append((col1, col2))\n",
        "\n",
        "print(\"Highly Correlated Stock Pairs:\")\n",
        "for pair in high_corr_pairs:\n",
        "  print(f\"{pair[0]} - {pair[1]}\")\n"
      ]
    },
    {
      "cell_type": "code",
      "execution_count": 63,
      "metadata": {
        "id": "N9sfKfVTIV0x"
      },
      "outputs": [],
      "source": [
        "# Create trading bot with newly processed data\n",
        "def runSim(stock1, stock2):\n",
        "    interface = 0\n",
        "    stocks = [stock1,stock2]\n",
        "    start = '2019-12-31'\n",
        "    end = '2021-03-08'\n",
        "    fee = 0.001\n",
        "    window = 252\n",
        "    t_threshold = -2.5\n",
        "\n",
        "    data = pd.DataFrame()\n",
        "    returns = pd.DataFrame()\n",
        "    for stock in stocks:\n",
        "        prices = yf.download(stock, start, end)\n",
        "        data[stock] = prices['Close']\n",
        "        returns[stock] = np.append(data[stock][1:].reset_index(drop=True)/data[stock][:-1].reset_index(drop=True) - 1 , 0)\n",
        "\n",
        "    gross_returns = np.array([])\n",
        "    net_returns = np.array([])\n",
        "    t_s = np.array([])\n",
        "    stock1 = stocks[0]\n",
        "    stock2 = stocks[1]\n",
        "\n",
        "\n",
        "    for t in range(window, len(data)):\n",
        "\n",
        "        #defining the unit root function: stock2 = a + b*stock1\n",
        "        def unit_root(b):\n",
        "            a = np.average(data[stock2][t-window:t] - b*data[stock1][t-window:t])\n",
        "            fair_value = a + b*data[stock1][t-window:t]\n",
        "            diff = np.array(fair_value - data[stock2][t-window:t])\n",
        "            diff_diff = diff[1:] - diff[:-1]\n",
        "            reg = sm.OLS(diff_diff, diff[:-1])\n",
        "            res = reg.fit()\n",
        "            return res.params[0]/res.bse[0]\n",
        "\n",
        "        res1 = spop.minimize(unit_root, data[stock2][t]/data[stock1][t], method='Nelder-Mead')\n",
        "        t_opt = res1.fun\n",
        "        b_opt = float(res1.x)\n",
        "        a_opt = np.average(data[stock2][t-window:t] - b_opt*data[stock1][t-window:t])\n",
        "\n",
        "        # Trade SIm\n",
        "        fair_value = a_opt + b_opt*data[stock1][t]\n",
        "        if t == window:\n",
        "            old_signal = 0\n",
        "        if t_opt > t_threshold:\n",
        "            signal = 0\n",
        "            gross_return = 0\n",
        "        else:\n",
        "            signal = np.sign(fair_value - data[stock2][t])\n",
        "            gross_return = signal*returns[stock2][t] - signal*returns[stock1][t]\n",
        "        fees = fee*abs(signal - old_signal)\n",
        "        net_return = gross_return - fees\n",
        "        gross_returns = np.append(gross_returns, gross_return)\n",
        "        net_returns = np.append(net_returns, net_return)\n",
        "        t_s = np.append(t_s, t_opt)\n",
        "\n",
        "        # remove later\n",
        "        if interface == 1:\n",
        "            print('day '+str(data.index[t]))\n",
        "            print('')\n",
        "            if signal == 0:\n",
        "                print('no trading')\n",
        "            elif  signal == 1:\n",
        "                print('long position on '+stock2+' and short position on '+stock1)\n",
        "            else:\n",
        "                print('long position on '+stock1+' and short position on '+stock2)\n",
        "            print('gross daily return: '+str(round(gross_return*100,2))+'%')\n",
        "            print('net daily return: '+str(round(net_return*100,2))+'%')\n",
        "            print('cumulative net return so far: '+str(round(np.prod(1+net_returns)*100-100,2))+'%')\n",
        "            print('')\n",
        "        old_signal = signal\n",
        "\n",
        "\n",
        "\n",
        "    return (np.append(1,np.cumprod(1+gross_returns))), (np.append(1,np.cumprod(1+net_returns)))\n",
        "\n",
        "def plotSim(stock1, stock2):\n",
        "    equity_curve_gross, equity_curve_net = runSim(stock1, stock2)\n",
        "    plt.title('Pairs Profit')\n",
        "    plt.plot(equity_curve_gross, label='gross returns')\n",
        "    plt.plot(equity_curve_net, label='net returns')\n",
        "    plt.legend()\n",
        "    plt.show()\n",
        "\n",
        "def net_equity(stock1,stock2):\n",
        "    return (runSim(stock1,stock2)[1][-1] - 1) * 100"
      ]
    },
    {
      "cell_type": "code",
      "execution_count": 70,
      "metadata": {
        "id": "ULGk9VhKIV0y",
        "outputId": "0e9bc125-51a3-479d-f751-8607fcf7470f",
        "colab": {
          "base_uri": "https://localhost:8080/"
        }
      },
      "outputs": [
        {
          "output_type": "stream",
          "name": "stderr",
          "text": [
            "[*********************100%%**********************]  1 of 1 completed\n",
            "[*********************100%%**********************]  1 of 1 completed\n",
            "[*********************100%%**********************]  1 of 1 completed\n",
            "[*********************100%%**********************]  1 of 1 completed"
          ]
        },
        {
          "output_type": "stream",
          "name": "stdout",
          "text": [
            " ROI is 2.758924638098259 %\n"
          ]
        },
        {
          "output_type": "stream",
          "name": "stderr",
          "text": [
            "\n",
            "[*********************100%%**********************]  1 of 1 completed\n",
            "[*********************100%%**********************]  1 of 1 completed"
          ]
        },
        {
          "output_type": "stream",
          "name": "stdout",
          "text": [
            " ROI is 0.948848262958113 %\n"
          ]
        },
        {
          "output_type": "stream",
          "name": "stderr",
          "text": [
            "\n",
            "[*********************100%%**********************]  1 of 1 completed\n",
            "[*********************100%%**********************]  1 of 1 completed"
          ]
        },
        {
          "output_type": "stream",
          "name": "stdout",
          "text": [
            " ROI is 2.758924638098259 %\n"
          ]
        },
        {
          "output_type": "stream",
          "name": "stderr",
          "text": [
            "\n",
            "[*********************100%%**********************]  1 of 1 completed\n",
            "[*********************100%%**********************]  1 of 1 completed"
          ]
        },
        {
          "output_type": "stream",
          "name": "stdout",
          "text": [
            " ROI is 2.6225362469753266 %\n"
          ]
        },
        {
          "output_type": "stream",
          "name": "stderr",
          "text": [
            "\n",
            "[*********************100%%**********************]  1 of 1 completed\n",
            "[*********************100%%**********************]  1 of 1 completed"
          ]
        },
        {
          "output_type": "stream",
          "name": "stdout",
          "text": [
            " ROI is 0.948848262958113 %\n"
          ]
        },
        {
          "output_type": "stream",
          "name": "stderr",
          "text": [
            "\n",
            "[*********************100%%**********************]  1 of 1 completed\n",
            "[*********************100%%**********************]  1 of 1 completed"
          ]
        },
        {
          "output_type": "stream",
          "name": "stdout",
          "text": [
            " ROI is -6.460527635452262 %\n"
          ]
        },
        {
          "output_type": "stream",
          "name": "stderr",
          "text": [
            "\n",
            "[*********************100%%**********************]  1 of 1 completed\n",
            "[*********************100%%**********************]  1 of 1 completed"
          ]
        },
        {
          "output_type": "stream",
          "name": "stdout",
          "text": [
            " ROI is -2.467494514280144 %\n"
          ]
        },
        {
          "output_type": "stream",
          "name": "stderr",
          "text": [
            "\n"
          ]
        },
        {
          "output_type": "stream",
          "name": "stdout",
          "text": [
            " ROI is 8.920862593567257 %\n",
            "Total ROI is 10.030922492922922 %\n"
          ]
        }
      ],
      "source": [
        "import warnings\n",
        "warnings.filterwarnings(\"ignore\", message=\"Conversion of an array with ndim > 0 to a scalar is deprecated...\")\n",
        "\n",
        "total = 0\n",
        "\n",
        "for pair in high_corr_pairs:\n",
        "    n_eq= net_equity(pair[0],pair[1])\n",
        "    print(f\" ROI is {n_eq} %\")\n",
        "    total += n_eq\n",
        "print(f\"Total ROI is {total} %\")"
      ]
    },
    {
      "cell_type": "code",
      "source": [
        "def get_data_from_tickers(tickers, start_date, end_date):\n",
        "    data_dict = {}\n",
        "\n",
        "    for ticker in tickers:\n",
        "        try:\n",
        "            data = yf.download(ticker, start=start_date, end=end_date)\n",
        "\n",
        "            if not data.empty:\n",
        "                data_dict[ticker] = data['Adj Close']\n",
        "        except:\n",
        "            print(f\"Error fetching data for {ticker}. Skipping.\")\n",
        "\n",
        "    combined_data = pd.DataFrame(data_dict)\n",
        "    combined_data = combined_data.dropna(axis=1, how='all')\n",
        "\n",
        "    return combined_data\n"
      ],
      "metadata": {
        "id": "KKWuQ_ovUgJg"
      },
      "execution_count": 79,
      "outputs": []
    },
    {
      "cell_type": "code",
      "source": [
        "# Define start and end dates for fetching data\n",
        "start_date = \"2018-01-01\"\n",
        "end_date = \"2023-01-01\"\n",
        "\n",
        "# Fetch data for a larger set of tickers\n",
        "tickers = get_IT_tickers(\"information-technology-services\")  # You can adjust the sector if needed\n",
        "stock_data = get_data_from_tickers(tickers, start_date, end_date)\n",
        "\n",
        "# Save the data to a CSV file\n",
        "stock_data.to_csv(\"larger_stock_data_IT.csv\")\n",
        "\n",
        "# Display the shape of the larger dataset\n",
        "print(\"Shape of the larger dataset:\", stock_data.shape)\n"
      ],
      "metadata": {
        "colab": {
          "base_uri": "https://localhost:8080/"
        },
        "id": "zJ4nQBsMUUHi",
        "outputId": "61116234-a2d3-40f1-dadd-48765ecc87fa"
      },
      "execution_count": 80,
      "outputs": [
        {
          "output_type": "stream",
          "name": "stderr",
          "text": [
            "[*********************100%%**********************]  1 of 1 completed\n",
            "[*********************100%%**********************]  1 of 1 completed\n",
            "[*********************100%%**********************]  1 of 1 completed\n",
            "[*********************100%%**********************]  1 of 1 completed\n",
            "[*********************100%%**********************]  1 of 1 completed\n",
            "[*********************100%%**********************]  1 of 1 completed\n",
            "[*********************100%%**********************]  1 of 1 completed\n",
            "[*********************100%%**********************]  1 of 1 completed\n",
            "[*********************100%%**********************]  1 of 1 completed\n",
            "[*********************100%%**********************]  1 of 1 completed\n",
            "[*********************100%%**********************]  1 of 1 completed\n",
            "[*********************100%%**********************]  1 of 1 completed\n",
            "[*********************100%%**********************]  1 of 1 completed\n",
            "[*********************100%%**********************]  1 of 1 completed\n",
            "[*********************100%%**********************]  1 of 1 completed\n",
            "[*********************100%%**********************]  1 of 1 completed\n",
            "[*********************100%%**********************]  1 of 1 completed\n",
            "[*********************100%%**********************]  1 of 1 completed\n",
            "[*********************100%%**********************]  1 of 1 completed\n",
            "[*********************100%%**********************]  1 of 1 completed\n",
            "[*********************100%%**********************]  1 of 1 completed\n",
            "[*********************100%%**********************]  1 of 1 completed\n",
            "[*********************100%%**********************]  1 of 1 completed\n",
            "[*********************100%%**********************]  1 of 1 completed\n",
            "[*********************100%%**********************]  1 of 1 completed\n",
            "[*********************100%%**********************]  1 of 1 completed\n",
            "[*********************100%%**********************]  1 of 1 completed\n",
            "[*********************100%%**********************]  1 of 1 completed\n",
            "[*********************100%%**********************]  1 of 1 completed\n",
            "[*********************100%%**********************]  1 of 1 completed\n",
            "[*********************100%%**********************]  1 of 1 completed\n",
            "[*********************100%%**********************]  1 of 1 completed\n",
            "[*********************100%%**********************]  1 of 1 completed\n",
            "[*********************100%%**********************]  1 of 1 completed\n",
            "[*********************100%%**********************]  1 of 1 completed\n",
            "[*********************100%%**********************]  1 of 1 completed\n",
            "[*********************100%%**********************]  1 of 1 completed\n",
            "[*********************100%%**********************]  1 of 1 completed\n",
            "[*********************100%%**********************]  1 of 1 completed\n",
            "[*********************100%%**********************]  1 of 1 completed\n",
            "[*********************100%%**********************]  1 of 1 completed\n",
            "[*********************100%%**********************]  1 of 1 completed\n",
            "[*********************100%%**********************]  1 of 1 completed\n",
            "[*********************100%%**********************]  1 of 1 completed\n",
            "[*********************100%%**********************]  1 of 1 completed\n",
            "[*********************100%%**********************]  1 of 1 completed\n",
            "[*********************100%%**********************]  1 of 1 completed\n",
            "[*********************100%%**********************]  1 of 1 completed\n",
            "[*********************100%%**********************]  1 of 1 completed\n",
            "[*********************100%%**********************]  1 of 1 completed\n",
            "[*********************100%%**********************]  1 of 1 completed\n",
            "[*********************100%%**********************]  1 of 1 completed\n",
            "[*********************100%%**********************]  1 of 1 completed\n",
            "[*********************100%%**********************]  1 of 1 completed\n",
            "ERROR:yfinance:\n",
            "1 Failed download:\n",
            "ERROR:yfinance:['GMM']: Exception(\"%ticker%: Data doesn't exist for startDate = 1514782800, endDate = 1672549200\")\n",
            "[*********************100%%**********************]  1 of 1 completed\n",
            "[*********************100%%**********************]  1 of 1 completed\n",
            "ERROR:yfinance:\n",
            "1 Failed download:\n",
            "ERROR:yfinance:['ARBB']: Exception(\"%ticker%: Data doesn't exist for startDate = 1514782800, endDate = 1672549200\")\n",
            "[*********************100%%**********************]  1 of 1 completed\n",
            "[*********************100%%**********************]  1 of 1 completed\n",
            "[*********************100%%**********************]  1 of 1 completed\n",
            "[*********************100%%**********************]  1 of 1 completed\n"
          ]
        },
        {
          "output_type": "stream",
          "name": "stdout",
          "text": [
            "Shape of the larger dataset: (1259, 58)\n"
          ]
        }
      ]
    },
    {
      "cell_type": "code",
      "source": [
        "pairs_dict"
      ],
      "metadata": {
        "colab": {
          "base_uri": "https://localhost:8080/"
        },
        "id": "9xFewIJme4d3",
        "outputId": "2646aa9b-5840-40fc-acaf-2eb7c288831d"
      },
      "execution_count": 105,
      "outputs": [
        {
          "output_type": "execute_result",
          "data": {
            "text/plain": [
              "defaultdict(list,\n",
              "            {0.7900000000000005: [('INFY', 'FIS')],\n",
              "             0.8000000000000005: [('INFY', 'FIS')],\n",
              "             0.8100000000000005: [('INFY', 'FIS')],\n",
              "             0.8200000000000005: [('INFY', 'FIS')],\n",
              "             0.8300000000000005: [('INFY', 'FIS')],\n",
              "             0.8400000000000005: [('INFY', 'FIS')],\n",
              "             0.8500000000000005: [('INFY', 'FIS')],\n",
              "             0.8600000000000005: [('INFY', 'FIS')],\n",
              "             0.8700000000000006: [('INFY', 'FIS')],\n",
              "             0.8800000000000006: [('INFY', 'FIS')],\n",
              "             0.8900000000000006: [('INFY', 'FIS')],\n",
              "             0.9000000000000006: [('INFY', 'FIS')],\n",
              "             0.9100000000000006: [('INFY', 'FIS')],\n",
              "             0.9200000000000006: [('INFY', 'FIS')],\n",
              "             0.9300000000000006: [('INFY', 'FIS')],\n",
              "             0.9400000000000006: [('INFY', 'FIS')],\n",
              "             0.9500000000000006: [('INFY', 'FIS')]})"
            ]
          },
          "metadata": {},
          "execution_count": 105
        }
      ]
    },
    {
      "cell_type": "code",
      "source": [
        "net_equity(\"INFY\",\"FIS\")"
      ],
      "metadata": {
        "colab": {
          "base_uri": "https://localhost:8080/"
        },
        "id": "mfeLiWInmCUv",
        "outputId": "bd6c0341-72a3-4724-9614-d17005b9eef0"
      },
      "execution_count": 138,
      "outputs": [
        {
          "output_type": "stream",
          "name": "stderr",
          "text": [
            "[*********************100%%**********************]  1 of 1 completed\n",
            "[*********************100%%**********************]  1 of 1 completed\n"
          ]
        },
        {
          "output_type": "execute_result",
          "data": {
            "text/plain": [
              "-7.203069859569499"
            ]
          },
          "metadata": {},
          "execution_count": 138
        }
      ]
    },
    {
      "cell_type": "code",
      "source": [
        "import pandas as pd\n",
        "from sklearn.preprocessing import StandardScaler\n",
        "from sklearn.decomposition import PCA\n",
        "from scipy.spatial.distance import pdist, squareform\n",
        "\n",
        "# Load the larger dataset\n",
        "larger_stock_data = pd.read_csv(\"larger_stock_data_IT.csv\", index_col=0)\n",
        "print(\"Dataset shape:\", larger_stock_data.shape)\n",
        "\n",
        "# Check for missing values in the dataset\n",
        "if larger_stock_data.isnull().values.any():\n",
        "    print(\"Dataset contains missing values. Imputing missing values...\")\n",
        "\n",
        "    # Impute missing values using mean imputation\n",
        "    larger_stock_data.fillna(larger_stock_data.mean(), inplace=True)\n",
        "\n",
        "    # Check again for missing values after imputation\n",
        "    if larger_stock_data.isnull().values.any():\n",
        "        print(\"Imputation did not fill all missing values. Please handle missing values manually.\")\n",
        "    else:\n",
        "        print(\"Missing values imputed successfully.\")\n",
        "else:\n",
        "    print(\"No missing values found. Proceeding with analysis...\")\n",
        "\n",
        "# Now you can proceed with preprocessing, PCA, and calculating the distance matrix as shown in the previous code snippet.\n"
      ],
      "metadata": {
        "colab": {
          "base_uri": "https://localhost:8080/"
        },
        "id": "URBVoO20pZJY",
        "outputId": "65b3bbef-b719-4cd5-934c-55cea7719aa4"
      },
      "execution_count": 135,
      "outputs": [
        {
          "output_type": "stream",
          "name": "stdout",
          "text": [
            "Dataset shape: (1259, 58)\n",
            "Dataset contains missing values. Imputing missing values...\n",
            "Missing values imputed successfully.\n"
          ]
        }
      ]
    },
    {
      "cell_type": "code",
      "source": [
        "import pandas as pd\n",
        "import numpy as np\n",
        "from sklearn.decomposition import PCA\n",
        "from scipy.spatial.distance import pdist, squareform\n",
        "\n",
        "# Load the dataset\n",
        "stock_data = pd.read_csv(\"larger_stock_data_IT.csv\", index_col=0)\n",
        "\n",
        "# Handle missing values\n",
        "stock_data.dropna(inplace=True)\n",
        "\n",
        "# Check if there are still missing values\n",
        "if stock_data.isnull().values.any():\n",
        "    print(\"Dataset still contains missing values. Please handle them before proceeding.\")\n",
        "else:\n",
        "    # Apply PCA\n",
        "    pca = PCA(n_components=0.95)\n",
        "    X_pca = pca.fit_transform(stock_data)\n",
        "\n",
        "    # Calculate pairwise distances\n",
        "    pairwise_distances = pdist(X_pca, metric='euclidean')\n",
        "\n",
        "    # Convert pairwise distances to square distance matrix\n",
        "    distance_matrix = squareform(pairwise_distances)\n",
        "\n",
        "    # Find the top 5 stock pairs based on the sum of distances\n",
        "    top_pairs_indices = np.unravel_index(np.argsort(distance_matrix, axis=None), distance_matrix.shape)\n",
        "\n",
        "   # Output the top 5 stock pairs\n",
        "print(\"Top 5 Stock Pairs:\")\n",
        "pairs = []\n",
        "for i in range(5):\n",
        "    pair_index = np.unravel_index(i, distance_matrix.shape)\n",
        "    stock1 = stock_data.columns[pair_index[0]]\n",
        "    stock2 = stock_data.columns[pair_index[1]]\n",
        "    distance = distance_matrix[pair_index]\n",
        "    print(f\"Pair {i+1}: {stock1} - {stock2}, Distance: {distance:.2f}\")\n",
        "    pairs.append((stock1, stock2))\n",
        "\n",
        "\n",
        "\n",
        ""
      ],
      "metadata": {
        "colab": {
          "base_uri": "https://localhost:8080/"
        },
        "id": "RH6dmbwXm_zo",
        "outputId": "7f31f9cc-e543-44a6-cf41-cec018bd48cb"
      },
      "execution_count": 161,
      "outputs": [
        {
          "output_type": "stream",
          "name": "stdout",
          "text": [
            "Top 5 Stock Pairs:\n",
            "Pair 1: ACN - ACN, Distance: 0.00\n",
            "Pair 2: ACN - IBM, Distance: 16.43\n",
            "Pair 3: ACN - FI, Distance: 6.55\n",
            "Pair 4: ACN - INFY, Distance: 17.86\n",
            "Pair 5: ACN - FIS, Distance: 8.44\n"
          ]
        }
      ]
    },
    {
      "cell_type": "code",
      "source": [
        "total = []\n",
        "for pair in pairs:\n",
        "  eq = net_equity(pair[0],pair[1])\n",
        "  print(eq)\n",
        "  total.append(eq)\n",
        "print(sum(total))"
      ],
      "metadata": {
        "colab": {
          "base_uri": "https://localhost:8080/"
        },
        "id": "_K9RSyzFuU13",
        "outputId": "2185cea9-9838-4dc1-a474-70778a4f3aca"
      },
      "execution_count": 160,
      "outputs": [
        {
          "output_type": "stream",
          "name": "stderr",
          "text": [
            "[*********************100%%**********************]  1 of 1 completed\n",
            "[*********************100%%**********************]  1 of 1 completed\n",
            "<ipython-input-63-fa74f32d7769>:35: RuntimeWarning: invalid value encountered in scalar divide\n",
            "  return res.params[0]/res.bse[0]\n",
            "[*********************100%%**********************]  1 of 1 completed\n",
            "[*********************100%%**********************]  1 of 1 completed"
          ]
        },
        {
          "output_type": "stream",
          "name": "stdout",
          "text": [
            "-1.784879706799114\n"
          ]
        },
        {
          "output_type": "stream",
          "name": "stderr",
          "text": [
            "\n",
            "[*********************100%%**********************]  1 of 1 completed\n",
            "[*********************100%%**********************]  1 of 1 completed"
          ]
        },
        {
          "output_type": "stream",
          "name": "stdout",
          "text": [
            "14.243955626312221\n"
          ]
        },
        {
          "output_type": "stream",
          "name": "stderr",
          "text": [
            "\n",
            "[*********************100%%**********************]  1 of 1 completed\n",
            "[*********************100%%**********************]  1 of 1 completed"
          ]
        },
        {
          "output_type": "stream",
          "name": "stdout",
          "text": [
            "-0.20693000483447133\n"
          ]
        },
        {
          "output_type": "stream",
          "name": "stderr",
          "text": [
            "\n",
            "[*********************100%%**********************]  1 of 1 completed\n",
            "[*********************100%%**********************]  1 of 1 completed"
          ]
        },
        {
          "output_type": "stream",
          "name": "stdout",
          "text": [
            "-4.3341466601321095\n"
          ]
        },
        {
          "output_type": "stream",
          "name": "stderr",
          "text": [
            "\n"
          ]
        },
        {
          "output_type": "stream",
          "name": "stdout",
          "text": [
            "4.105966210233558\n",
            "12.023965464780083\n"
          ]
        }
      ]
    },
    {
      "cell_type": "code",
      "source": [
        "import warnings\n",
        "warnings.filterwarnings(\"ignore\", message=\"Conversion of an array with ndim > 0 to a scalar is deprecated...\")\n",
        "\n",
        "roi_dict = {}\n",
        "\n",
        "for pair in high_corr_pairs:\n",
        "    stock1, stock2 = pair\n",
        "    n_eq = net_equity(stock1, stock2)\n",
        "    roi_dict[pair] = n_eq\n",
        "    print(f\"ROI for {stock1} - {stock2}: {n_eq}%\")\n",
        "\n",
        "total_roi = sum(roi_dict.values())\n",
        "print(f\"\\nTotal ROI is {total_roi}%\")"
      ],
      "metadata": {
        "colab": {
          "base_uri": "https://localhost:8080/"
        },
        "id": "-EOonTqHZpMN",
        "outputId": "5c799554-aebc-46a2-8566-d53eb5358bf2"
      },
      "execution_count": 126,
      "outputs": [
        {
          "output_type": "stream",
          "name": "stderr",
          "text": [
            "[*********************100%%**********************]  1 of 1 completed\n",
            "[*********************100%%**********************]  1 of 1 completed\n",
            "[*********************100%%**********************]  1 of 1 completed\n",
            "[*********************100%%**********************]  1 of 1 completed"
          ]
        },
        {
          "output_type": "stream",
          "name": "stdout",
          "text": [
            "ROI for ACN - BR: 2.758924638098259%\n"
          ]
        },
        {
          "output_type": "stream",
          "name": "stderr",
          "text": [
            "\n",
            "[*********************100%%**********************]  1 of 1 completed\n",
            "[*********************100%%**********************]  1 of 1 completed"
          ]
        },
        {
          "output_type": "stream",
          "name": "stdout",
          "text": [
            "ROI for ACN - CTSH: 0.948848262958113%\n"
          ]
        },
        {
          "output_type": "stream",
          "name": "stderr",
          "text": [
            "\n",
            "[*********************100%%**********************]  1 of 1 completed\n",
            "[*********************100%%**********************]  1 of 1 completed"
          ]
        },
        {
          "output_type": "stream",
          "name": "stdout",
          "text": [
            "ROI for BR - ACN: 2.758924638098259%\n"
          ]
        },
        {
          "output_type": "stream",
          "name": "stderr",
          "text": [
            "\n",
            "[*********************100%%**********************]  1 of 1 completed\n",
            "[*********************100%%**********************]  1 of 1 completed"
          ]
        },
        {
          "output_type": "stream",
          "name": "stdout",
          "text": [
            "ROI for BR - JKHY: 2.6225362469753266%\n"
          ]
        },
        {
          "output_type": "stream",
          "name": "stderr",
          "text": [
            "\n",
            "[*********************100%%**********************]  1 of 1 completed\n",
            "[*********************100%%**********************]  1 of 1 completed"
          ]
        },
        {
          "output_type": "stream",
          "name": "stdout",
          "text": [
            "ROI for CTSH - ACN: 0.948848262958113%\n"
          ]
        },
        {
          "output_type": "stream",
          "name": "stderr",
          "text": [
            "\n",
            "[*********************100%%**********************]  1 of 1 completed\n",
            "[*********************100%%**********************]  1 of 1 completed"
          ]
        },
        {
          "output_type": "stream",
          "name": "stdout",
          "text": [
            "ROI for FIS - JKHY: -6.460527635452262%\n"
          ]
        },
        {
          "output_type": "stream",
          "name": "stderr",
          "text": [
            "\n",
            "[*********************100%%**********************]  1 of 1 completed\n",
            "[*********************100%%**********************]  1 of 1 completed"
          ]
        },
        {
          "output_type": "stream",
          "name": "stdout",
          "text": [
            "ROI for JKHY - BR: -2.467494514280144%\n"
          ]
        },
        {
          "output_type": "stream",
          "name": "stderr",
          "text": [
            "\n"
          ]
        },
        {
          "output_type": "stream",
          "name": "stdout",
          "text": [
            "ROI for JKHY - FIS: 8.920862593567257%\n",
            "\n",
            "Total ROI is 10.030922492922922%\n"
          ]
        }
      ]
    }
  ],
  "metadata": {
    "kernelspec": {
      "display_name": "base",
      "language": "python",
      "name": "python3"
    },
    "language_info": {
      "codemirror_mode": {
        "name": "ipython",
        "version": 3
      },
      "file_extension": ".py",
      "mimetype": "text/x-python",
      "name": "python",
      "nbconvert_exporter": "python",
      "pygments_lexer": "ipython3",
      "version": "3.11.5"
    },
    "colab": {
      "provenance": []
    }
  },
  "nbformat": 4,
  "nbformat_minor": 0
}