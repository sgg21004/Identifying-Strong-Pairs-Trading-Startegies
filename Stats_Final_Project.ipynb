{
  "nbformat": 4,
  "nbformat_minor": 0,
  "metadata": {
    "colab": {
      "provenance": []
    },
    "kernelspec": {
      "name": "python3",
      "display_name": "Python 3"
    },
    "language_info": {
      "name": "python"
    }
  },
  "cells": [
    {
      "cell_type": "code",
      "source": [
        "import pandas as pd\n",
        "import numpy as np\n",
        "import yfinance as yf\n",
        "from sklearn.cluster import KMeans\n",
        "from sklearn.decomposition import PCA\n",
        "from sklearn.ensemble import RandomForestRegressor\n",
        "from sklearn.metrics import mean_squared_error\n",
        "from itertools import combinations"
      ],
      "metadata": {
        "id": "pmjwbh-Iq-az"
      },
      "execution_count": null,
      "outputs": []
    },
    {
      "cell_type": "code",
      "source": [
        "# For initial testing\n",
        "tickers = ['XOM', 'CVX', 'COP', 'SLB', 'OXY', 'EOG', 'PXD', 'MRO', 'DVN', 'FANG', 'HES', 'CNQ', 'PSX', 'VLO', 'MPC', 'MPLX', 'ENBL', 'HAL', 'BKR', 'NOV', 'RRC', 'CLR', 'AR', 'WMB', 'OKE', 'EPD', 'ET', 'KMI', 'TRP', 'ENB', 'EQT', 'CHK', 'SWN', 'COG', 'CNX', 'APA', 'HFC', 'NBL', 'PBR', 'EC', 'YPF', 'CEO', 'MTDR', 'DO', 'CPG', 'ERF', 'ECR', 'POR', 'EQM', 'SUN', 'XEC', 'OVV', 'WTI', 'EGO', 'LPI', 'PE', 'DEN', 'CLF', 'X', 'AKO.B', 'NTR', 'TECK', 'FCX', 'HCC', 'BTU', 'ARCH', 'CTRA', 'CRK', 'VET', 'DVN', 'RIG', 'NE', 'TOT', 'BP', 'RDS.A', 'E', 'IMO', 'FTI', 'PBR.A', 'PDCE', 'AR', 'LNG', 'EQT', 'HES', 'WLL', 'MGY', 'CNX', 'APA', 'XEC', 'CPE', 'OVV', 'FANG', 'WTI', 'NOG', 'SM', 'ERF', 'MTDR', 'CTRA', 'NBL', 'OII', 'NFX', 'GPL', 'AROC', 'BATL', 'BORR', 'CEI', 'CHR', 'CIVI', 'CLB', 'CRR', 'CRZO', 'CVI', 'CXO', 'DEN', 'DK', 'DRQ', 'ECT', 'EGY', 'EMES', 'ENR', 'ENSV', 'EPAC', 'EPM', 'EXP', 'EXTN', 'FET', 'FNV', 'FTK', 'FUR', 'GBR', 'GFI', 'GFL', 'GPP', 'GRA', 'GRP.U', 'GROY', 'GUNR', 'GVA', 'GWRS', 'HCC', 'HESM', 'HGL', 'HPDI', 'HPK', 'HRL', 'HWKN', 'ICD', 'IEP', 'INCY', 'IOAC', 'IOGS', 'IOR', 'IRS', 'JAG', 'JCP', 'KLXE', 'KRP', 'LBRT', 'LBRT.A', 'LGCY', 'LGCYO', 'LHC', 'LND', 'LONE', 'LPI', 'LRGO', 'MFRI', 'MGM', 'MGY', 'MHPC', 'MKC', 'MKC.V', 'MMR', 'MOS', 'MTBC', 'MTDR', 'MXC', 'MXC', 'MXCT', 'NBR', 'NINE', 'NMIH', 'NOA', 'NOAV', 'NOG', 'NRT', 'NTI', 'OAS', 'OBNK', 'OEC', 'OGE', 'OGS', 'OILU', 'OMC', 'OMP', 'ONS', 'OPRA', 'OSLO', 'OXY', 'OXY.A', 'OXYU', 'OYSXF', 'PAND', 'PBF', 'PBFX', 'PBSV', 'PBTP', 'PDBC', 'PDCE', 'PDCO', 'PESC', 'PFE', 'PGNY', 'PIRS', 'PJPHY', 'PKD', 'PKXP', 'POR', 'PPSI', 'PRT', 'PRTH', 'PVA', 'PVAC', 'PVAC.A', 'PVEG', 'PWE', 'PXD', 'PYME', 'QS', 'QSC', 'RBBN', 'RF', 'RFBD']\n",
        "\n",
        "# Download historical price data from Yahoo Finance\n",
        "price_data = yf.download(tickers, start=\"2015-01-01\", end=\"2023-04-01\")['Adj Close']"
      ],
      "metadata": {
        "colab": {
          "base_uri": "https://localhost:8080/"
        },
        "id": "I5JklD2yrVKX",
        "outputId": "89123c24-297a-4b87-ed1d-291e9c935258"
      },
      "execution_count": null,
      "outputs": [
        {
          "output_type": "stream",
          "name": "stderr",
          "text": [
            "[*********************100%%**********************]  208 of 208 completed\n",
            "ERROR:yfinance:\n",
            "63 Failed downloads:\n",
            "ERROR:yfinance:['HPDI', 'GRA', 'CLR', 'COG', 'PKD', 'TOT', 'PBR.A', 'PYME', 'GPP', 'HFC', 'PVAC', 'LONE', 'NBL', 'RFBD', 'NOAV', 'ECR', 'DEN', 'EQM', 'LRGO', 'OXY.A', 'PE', 'OAS', 'PKXP', 'LGCYO', 'PJPHY', 'PAND', 'LBRT.A', 'ENBL', 'LPI', 'IOAC', 'CRZO', 'XEC', 'PBFX', 'EXTN', 'CXO', 'OSLO', 'MTBC', 'OYSXF', 'OBNK', 'OXYU', 'GRP.U', 'JAG', 'CRR', 'RDS.A', 'MKC.V', 'OMP', 'GPL', 'WLL', 'JCP', 'EMES', 'CEO', 'IOGS', 'PVAC.A', 'ECT', 'AKO.B']: Exception('%ticker%: No timezone found, symbol may be delisted')\n",
            "ERROR:yfinance:['PWE', 'FUR', 'MFRI', 'PESC', 'ONS', 'NTI', 'PVA']: Exception('%ticker%: No price data found, symbol may be delisted (1d 2015-01-01 -> 2023-04-01)')\n",
            "ERROR:yfinance:['PDCE']: Exception(\"%ticker%: Period 'max' is invalid, must be one of ['1d', '5d']\")\n"
          ]
        }
      ]
    },
    {
      "cell_type": "code",
      "source": [
        "# Calculate price returns\n",
        "returns = price_data.pct_change().dropna()\n",
        "returns.head(5)"
      ],
      "metadata": {
        "colab": {
          "base_uri": "https://localhost:8080/",
          "height": 110
        },
        "id": "cRI7Igidr3b5",
        "outputId": "5bbbd597-2346-483a-ebea-933dce6545b4"
      },
      "execution_count": null,
      "outputs": [
        {
          "output_type": "execute_result",
          "data": {
            "text/plain": [
              "Empty DataFrame\n",
              "Columns: [AKO.B, APA, AR, ARCH, AROC, BATL, BKR, BORR, BP, BTU, CEI, CEO, CHK, CHR, CIVI, CLB, CLF, CLR, CNQ, CNX, COG, COP, CPE, CPG, CRK, CRR, CRZO, CTRA, CVI, CVX, CXO, DEN, DK, DO, DRQ, DVN, E, EC, ECR, ECT, EGO, EGY, EMES, ENB, ENBL, ENR, ENSV, EOG, EPAC, EPD, EPM, EQM, EQT, ERF, ET, EXP, EXTN, FANG, FCX, FET, FNV, FTI, FTK, FUR, GBR, GFI, GFL, GPL, GPP, GRA, GROY, GRP.U, GUNR, GVA, GWRS, HAL, HCC, HES, HESM, HFC, HGL, HPDI, HPK, HRL, HWKN, ICD, IEP, IMO, INCY, IOAC, IOGS, IOR, IRS, JAG, JCP, KLXE, KMI, KRP, LBRT, LBRT.A, ...]\n",
              "Index: []\n",
              "\n",
              "[0 rows x 208 columns]"
            ],
            "text/html": [
              "\n",
              "  <div id=\"df-e9a383e3-7b56-4912-9209-a3cccd15ce66\" class=\"colab-df-container\">\n",
              "    <div>\n",
              "<style scoped>\n",
              "    .dataframe tbody tr th:only-of-type {\n",
              "        vertical-align: middle;\n",
              "    }\n",
              "\n",
              "    .dataframe tbody tr th {\n",
              "        vertical-align: top;\n",
              "    }\n",
              "\n",
              "    .dataframe thead th {\n",
              "        text-align: right;\n",
              "    }\n",
              "</style>\n",
              "<table border=\"1\" class=\"dataframe\">\n",
              "  <thead>\n",
              "    <tr style=\"text-align: right;\">\n",
              "      <th>Ticker</th>\n",
              "      <th>AKO.B</th>\n",
              "      <th>APA</th>\n",
              "      <th>AR</th>\n",
              "      <th>ARCH</th>\n",
              "      <th>AROC</th>\n",
              "      <th>BATL</th>\n",
              "      <th>BKR</th>\n",
              "      <th>BORR</th>\n",
              "      <th>BP</th>\n",
              "      <th>BTU</th>\n",
              "      <th>...</th>\n",
              "      <th>TRP</th>\n",
              "      <th>VET</th>\n",
              "      <th>VLO</th>\n",
              "      <th>WLL</th>\n",
              "      <th>WMB</th>\n",
              "      <th>WTI</th>\n",
              "      <th>X</th>\n",
              "      <th>XEC</th>\n",
              "      <th>XOM</th>\n",
              "      <th>YPF</th>\n",
              "    </tr>\n",
              "    <tr>\n",
              "      <th>Date</th>\n",
              "      <th></th>\n",
              "      <th></th>\n",
              "      <th></th>\n",
              "      <th></th>\n",
              "      <th></th>\n",
              "      <th></th>\n",
              "      <th></th>\n",
              "      <th></th>\n",
              "      <th></th>\n",
              "      <th></th>\n",
              "      <th></th>\n",
              "      <th></th>\n",
              "      <th></th>\n",
              "      <th></th>\n",
              "      <th></th>\n",
              "      <th></th>\n",
              "      <th></th>\n",
              "      <th></th>\n",
              "      <th></th>\n",
              "      <th></th>\n",
              "      <th></th>\n",
              "    </tr>\n",
              "  </thead>\n",
              "  <tbody>\n",
              "  </tbody>\n",
              "</table>\n",
              "<p>0 rows × 208 columns</p>\n",
              "</div>\n",
              "    <div class=\"colab-df-buttons\">\n",
              "\n",
              "  <div class=\"colab-df-container\">\n",
              "    <button class=\"colab-df-convert\" onclick=\"convertToInteractive('df-e9a383e3-7b56-4912-9209-a3cccd15ce66')\"\n",
              "            title=\"Convert this dataframe to an interactive table.\"\n",
              "            style=\"display:none;\">\n",
              "\n",
              "  <svg xmlns=\"http://www.w3.org/2000/svg\" height=\"24px\" viewBox=\"0 -960 960 960\">\n",
              "    <path d=\"M120-120v-720h720v720H120Zm60-500h600v-160H180v160Zm220 220h160v-160H400v160Zm0 220h160v-160H400v160ZM180-400h160v-160H180v160Zm440 0h160v-160H620v160ZM180-180h160v-160H180v160Zm440 0h160v-160H620v160Z\"/>\n",
              "  </svg>\n",
              "    </button>\n",
              "\n",
              "  <style>\n",
              "    .colab-df-container {\n",
              "      display:flex;\n",
              "      gap: 12px;\n",
              "    }\n",
              "\n",
              "    .colab-df-convert {\n",
              "      background-color: #E8F0FE;\n",
              "      border: none;\n",
              "      border-radius: 50%;\n",
              "      cursor: pointer;\n",
              "      display: none;\n",
              "      fill: #1967D2;\n",
              "      height: 32px;\n",
              "      padding: 0 0 0 0;\n",
              "      width: 32px;\n",
              "    }\n",
              "\n",
              "    .colab-df-convert:hover {\n",
              "      background-color: #E2EBFA;\n",
              "      box-shadow: 0px 1px 2px rgba(60, 64, 67, 0.3), 0px 1px 3px 1px rgba(60, 64, 67, 0.15);\n",
              "      fill: #174EA6;\n",
              "    }\n",
              "\n",
              "    .colab-df-buttons div {\n",
              "      margin-bottom: 4px;\n",
              "    }\n",
              "\n",
              "    [theme=dark] .colab-df-convert {\n",
              "      background-color: #3B4455;\n",
              "      fill: #D2E3FC;\n",
              "    }\n",
              "\n",
              "    [theme=dark] .colab-df-convert:hover {\n",
              "      background-color: #434B5C;\n",
              "      box-shadow: 0px 1px 3px 1px rgba(0, 0, 0, 0.15);\n",
              "      filter: drop-shadow(0px 1px 2px rgba(0, 0, 0, 0.3));\n",
              "      fill: #FFFFFF;\n",
              "    }\n",
              "  </style>\n",
              "\n",
              "    <script>\n",
              "      const buttonEl =\n",
              "        document.querySelector('#df-e9a383e3-7b56-4912-9209-a3cccd15ce66 button.colab-df-convert');\n",
              "      buttonEl.style.display =\n",
              "        google.colab.kernel.accessAllowed ? 'block' : 'none';\n",
              "\n",
              "      async function convertToInteractive(key) {\n",
              "        const element = document.querySelector('#df-e9a383e3-7b56-4912-9209-a3cccd15ce66');\n",
              "        const dataTable =\n",
              "          await google.colab.kernel.invokeFunction('convertToInteractive',\n",
              "                                                    [key], {});\n",
              "        if (!dataTable) return;\n",
              "\n",
              "        const docLinkHtml = 'Like what you see? Visit the ' +\n",
              "          '<a target=\"_blank\" href=https://colab.research.google.com/notebooks/data_table.ipynb>data table notebook</a>'\n",
              "          + ' to learn more about interactive tables.';\n",
              "        element.innerHTML = '';\n",
              "        dataTable['output_type'] = 'display_data';\n",
              "        await google.colab.output.renderOutput(dataTable, element);\n",
              "        const docLink = document.createElement('div');\n",
              "        docLink.innerHTML = docLinkHtml;\n",
              "        element.appendChild(docLink);\n",
              "      }\n",
              "    </script>\n",
              "  </div>\n",
              "\n",
              "    </div>\n",
              "  </div>\n"
            ],
            "application/vnd.google.colaboratory.intrinsic+json": {
              "type": "dataframe",
              "variable_name": "returns"
            }
          },
          "metadata": {},
          "execution_count": 3
        }
      ]
    },
    {
      "cell_type": "code",
      "source": [
        "# Identify highly correlated pairs\n",
        "pairs = []\n",
        "for i in range(len(tickers)):\n",
        "    for j in range(i+1, len(tickers)):\n",
        "        a, b = tickers[i], tickers[j]\n",
        "        corr = returns[a].corr(returns[b])\n",
        "        if abs(corr) > 0:  # Adjust the correlation threshold as needed\n",
        "            pairs.append((a, b))\n",
        "pairs"
      ],
      "metadata": {
        "colab": {
          "base_uri": "https://localhost:8080/"
        },
        "id": "iicLbIB9xNKX",
        "outputId": "579c85b4-abe9-4e70-8d89-a0fbf5c10d5a"
      },
      "execution_count": null,
      "outputs": [
        {
          "output_type": "execute_result",
          "data": {
            "text/plain": [
              "[]"
            ]
          },
          "metadata": {},
          "execution_count": 4
        }
      ]
    },
    {
      "cell_type": "code",
      "source": [
        "# Train machine learning models for each pair\n",
        "models = {}\n",
        "for pair in pairs:\n",
        "    a, b = pair\n",
        "    spread = price_data[a] - price_data[b]\n",
        "    X = spread.shift(1).values[1:]  # Lagged spread as feature\n",
        "    y = spread.values[1:]  # Target variable is the current spread\n",
        "\n",
        "    model = RandomForestRegressor(n_estimators=100, random_state=42)\n",
        "    model.fit(X.reshape(-1, 1), y)\n",
        "    models[pair] = model\n",
        "\n",
        "# Backtesting\n",
        "positions = pd.DataFrame(index=price_data.index, columns=pairs, data=0.0)\n",
        "for pair in pairs:\n",
        "    a, b = pair\n",
        "    spread = price_data[a] - price_data[b]\n",
        "    z_score = (spread - spread.mean()) / spread.std()\n",
        "    positions[pair][z_score < -2.0] = 1  # Enter long position in a, short position in b\n",
        "    positions[pair][z_score > 2.0] = -1  # Enter short position in a, long position in b\n",
        "\n",
        "portfolio = positions.mul(price_data[pairs], axis=1).sum(axis=1)\n",
        "returns = portfolio.pct_change().dropna()\n",
        "\n",
        "# Evaluate strategy performance\n",
        "print(f'Annualized Return: {returns.mean() * 252 * 100:.2f}%')\n",
        "print(f'Annualized Volatility: {returns.std() * np.sqrt(252) * 100:.2f}%')\n",
        "print(f'Sharpe Ratio: {returns.mean() / returns.std() * np.sqrt(252):.2f}')"
      ],
      "metadata": {
        "id": "l6pBZQwaxUm-",
        "colab": {
          "base_uri": "https://localhost:8080/"
        },
        "outputId": "7bf686fe-62ea-431b-c8bc-3ecdbb668fde"
      },
      "execution_count": null,
      "outputs": [
        {
          "output_type": "stream",
          "name": "stdout",
          "text": [
            "Annualized Return: nan%\n",
            "Annualized Volatility: nan%\n",
            "Sharpe Ratio: nan\n"
          ]
        }
      ]
    }
  ]
}